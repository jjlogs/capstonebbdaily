{
 "cells": [
  {
   "cell_type": "code",
   "execution_count": 1,
   "id": "f0aa50df-ddf8-4522-ac14-7729a3a9a212",
   "metadata": {
    "tags": []
   },
   "outputs": [],
   "source": [
    "import pandas as pd\n",
    "from textblob import TextBlob\n",
    "import nltk\n",
    "from collections import Counter\n",
    "from nltk.corpus import stopwords\n",
    "import string"
   ]
  },
  {
   "cell_type": "code",
   "execution_count": 2,
   "id": "d48f32da-e99c-44b9-8855-7e7ab8e039a5",
   "metadata": {
    "tags": []
   },
   "outputs": [
    {
     "name": "stderr",
     "output_type": "stream",
     "text": [
      "[nltk_data] Downloading package punkt to\n",
      "[nltk_data]     C:\\Users\\john.joshua\\AppData\\Roaming\\nltk_data...\n",
      "[nltk_data]   Package punkt is already up-to-date!\n",
      "[nltk_data] Downloading package stopwords to\n",
      "[nltk_data]     C:\\Users\\john.joshua\\AppData\\Roaming\\nltk_data...\n",
      "[nltk_data]   Package stopwords is already up-to-date!\n",
      "[nltk_data] Downloading package averaged_perceptron_tagger to\n",
      "[nltk_data]     C:\\Users\\john.joshua\\AppData\\Roaming\\nltk_data...\n",
      "[nltk_data]   Package averaged_perceptron_tagger is already up-to-\n",
      "[nltk_data]       date!\n"
     ]
    },
    {
     "data": {
      "text/plain": [
       "True"
      ]
     },
     "execution_count": 2,
     "metadata": {},
     "output_type": "execute_result"
    }
   ],
   "source": [
    "nltk.download('punkt')\n",
    "nltk.download('stopwords')\n",
    "nltk.download('averaged_perceptron_tagger')"
   ]
  },
  {
   "cell_type": "code",
   "execution_count": 4,
   "id": "b74367a0-8efe-424d-915f-160fe5ccb3b7",
   "metadata": {
    "tags": []
   },
   "outputs": [],
   "source": [
    "df = pd.read_csv('PlayStoreReviewSentiment.csv')\n",
    "reviews = df['content'].astype(str)"
   ]
  },
  {
   "cell_type": "code",
   "execution_count": 5,
   "id": "d3540fbe-a216-4ceb-a633-4d499a681d65",
   "metadata": {
    "tags": []
   },
   "outputs": [],
   "source": [
    "def extract_nouns(text):\n",
    "    is_noun = lambda pos: pos[:2] == 'NN'\n",
    "    tokenized = nltk.word_tokenize(text)\n",
    "    all_nouns = [word for (word, pos) in nltk.pos_tag(tokenized) if is_noun(pos)] \n",
    "    return all_nouns"
   ]
  },
  {
   "cell_type": "code",
   "execution_count": 6,
   "id": "bd7df7b9-636c-4852-9a8d-4ecefd910cc1",
   "metadata": {
    "tags": []
   },
   "outputs": [],
   "source": [
    "positive_reviews = df[df['sentiment'] == 'Positive']['content']\n",
    "negative_reviews = df[df['sentiment'] == 'Negative']['content']"
   ]
  },
  {
   "cell_type": "code",
   "execution_count": 7,
   "id": "c1d04ba0-61f4-46f2-be3c-83791165ea52",
   "metadata": {
    "tags": []
   },
   "outputs": [],
   "source": [
    "positive_nouns = Counter()\n",
    "negative_nouns = Counter()"
   ]
  },
  {
   "cell_type": "code",
   "execution_count": 8,
   "id": "847877a0-48af-4f1f-b493-471e91ba295a",
   "metadata": {
    "tags": []
   },
   "outputs": [],
   "source": [
    "for review in positive_reviews:\n",
    "    positive_nouns.update(extract_nouns(review))\n",
    "\n",
    "for review in negative_reviews:\n",
    "    negative_nouns.update(extract_nouns(review))"
   ]
  },
  {
   "cell_type": "code",
   "execution_count": 9,
   "id": "00a2f7a1-38bb-4d16-b993-ae0c6b319ecf",
   "metadata": {
    "tags": []
   },
   "outputs": [
    {
     "name": "stdout",
     "output_type": "stream",
     "text": [
      "Common aspects in positive reviews:\n",
      "[('service', 5487), ('app', 4970), ('delivery', 3382), ('time', 2072), ('milk', 1876), ('order', 1834), ('Nice', 1608), ('customer', 1577), ('items', 1479), ('experience', 1454), ('..', 1288), ('products', 1241), ('Excellent', 1205), ('money', 1021), ('Great', 1020), ('day', 888), ('product', 887), ('quality', 814), ('times', 803), ('days', 772), ('wallet', 745), ('care', 739), ('services', 724), ('support', 680), ('subscription', 664)]\n",
      "\n",
      "Common aspects in negative reviews:\n",
      "[('service', 5887), ('app', 4546), ('delivery', 4075), ('customer', 3577), ('order', 3115), ('milk', 2742), ('time', 2551), ('money', 2315), ('Worst', 1895), ('items', 1816), ('experience', 1787), ('..', 1697), ('care', 1695), ('support', 1495), ('product', 1486), ('day', 1446), ('wallet', 1421), ('days', 1306), ('products', 1264), ('times', 1117), ('refund', 1067), ('issue', 983), ('i', 965), ('subscription', 928), ('amount', 863)]\n"
     ]
    }
   ],
   "source": [
    "# Display the most common aspects\n",
    "print(\"Common aspects in positive reviews:\")\n",
    "print(positive_nouns.most_common(25))\n",
    "\n",
    "print(\"\\nCommon aspects in negative reviews:\")\n",
    "print(negative_nouns.most_common(25))"
   ]
  },
  {
   "cell_type": "code",
   "execution_count": 10,
   "id": "f8f2de13-30d9-40ae-85b5-beed1e3d321f",
   "metadata": {
    "tags": []
   },
   "outputs": [],
   "source": [
    "aspect_df = pd.read_csv('PlayStoreReviewSentiment.csv')"
   ]
  },
  {
   "cell_type": "code",
   "execution_count": 11,
   "id": "4396399c-1bac-4fe2-b9b9-eb2ce09f2e9d",
   "metadata": {
    "tags": []
   },
   "outputs": [],
   "source": [
    "def extract_nouns(text):\n",
    "    is_noun = lambda pos: pos[:2] == 'NN'\n",
    "    tokenized = nltk.word_tokenize(text)\n",
    "    all_nouns = [word for (word, pos) in nltk.pos_tag(tokenized) if is_noun(pos)] \n",
    "    return all_nouns"
   ]
  },
  {
   "cell_type": "code",
   "execution_count": 12,
   "id": "c5b72d2d-6023-406a-9e00-2e8a4d4e8119",
   "metadata": {
    "tags": []
   },
   "outputs": [],
   "source": [
    "aspect_df['aspects'] = aspect_df['content'].apply(lambda x: ', '.join(extract_nouns(x)))"
   ]
  },
  {
   "cell_type": "code",
   "execution_count": 13,
   "id": "ce270a92-06bd-4fe6-a0b7-97ae8bd4eeba",
   "metadata": {
    "tags": []
   },
   "outputs": [],
   "source": [
    "aspect_df.to_csv('PlaystoreReviewsSentimentAspects.csv', index=False)"
   ]
  },
  {
   "cell_type": "code",
   "execution_count": null,
   "id": "072b70bc-1788-4515-8ab7-9bed17edefa2",
   "metadata": {},
   "outputs": [],
   "source": []
  }
 ],
 "metadata": {
  "kernelspec": {
   "display_name": "Python 3 (ipykernel)",
   "language": "python",
   "name": "python3"
  },
  "language_info": {
   "codemirror_mode": {
    "name": "ipython",
    "version": 3
   },
   "file_extension": ".py",
   "mimetype": "text/x-python",
   "name": "python",
   "nbconvert_exporter": "python",
   "pygments_lexer": "ipython3",
   "version": "3.11.5"
  }
 },
 "nbformat": 4,
 "nbformat_minor": 5
}
