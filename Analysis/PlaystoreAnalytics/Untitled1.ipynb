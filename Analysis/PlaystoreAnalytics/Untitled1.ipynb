{
 "cells": [
  {
   "cell_type": "code",
   "execution_count": 2,
   "id": "737a4a4e-93e5-4f65-bd6b-5d279a90ab58",
   "metadata": {
    "tags": []
   },
   "outputs": [
    {
     "data": {
      "text/plain": [
       "(nps_category\n",
       " Promoter     46.248935\n",
       " Detractor    44.297629\n",
       " Passive       9.453436\n",
       " Name: proportion, dtype: float64,\n",
       " 1.9513064838843874)"
      ]
     },
     "execution_count": 2,
     "metadata": {},
     "output_type": "execute_result"
    }
   ],
   "source": [
    "import pandas as pd\n",
    "\n",
    "# Load the CSV file again to use review ratings for NPS calculation based on a 5-star system\n",
    "try:\n",
    "    # Read the file\n",
    "    reviews_nps_df = pd.read_csv(\"PlaystoreReviewsSentimentAspects.csv\")\n",
    "\n",
    "    # Define the adapted NPS categories based on the 5-star rating system\n",
    "    reviews_nps_df['nps_category'] = reviews_nps_df['score'].apply(lambda x: 'Promoter' if x == 5 else ('Passive' if x == 4 else 'Detractor'))\n",
    "\n",
    "    # Calculate the percentage of each category\n",
    "    nps_counts = reviews_nps_df['nps_category'].value_counts(normalize=True) * 100\n",
    "\n",
    "    # Calculate NPS: %Promoters - %Detractors\n",
    "    nps_score = nps_counts.get('Promoter', 0) - nps_counts.get('Detractor', 0)\n",
    "\n",
    "    nps_counts, nps_score\n",
    "except Exception as e:\n",
    "    nps_counts, nps_score = e, None\n",
    "\n",
    "nps_counts, nps_score\n"
   ]
  },
  {
   "cell_type": "code",
   "execution_count": 4,
   "id": "85497635-d7e7-45f0-b58c-253f0a52883e",
   "metadata": {
    "tags": []
   },
   "outputs": [],
   "source": [
    "df = pd.read_csv(\"PlaystoreReviewsSentimentAspects.csv\")"
   ]
  },
  {
   "cell_type": "code",
   "execution_count": 5,
   "id": "f6b9d9df-2f7b-4b64-9ca6-5e96a9d7745f",
   "metadata": {
    "tags": []
   },
   "outputs": [
    {
     "data": {
      "text/plain": [
       "(50479, 14)"
      ]
     },
     "execution_count": 5,
     "metadata": {},
     "output_type": "execute_result"
    }
   ],
   "source": [
    "df.shape"
   ]
  },
  {
   "cell_type": "code",
   "execution_count": 6,
   "id": "650a87bc-501b-4af5-be1e-8914a5100a3b",
   "metadata": {
    "tags": []
   },
   "outputs": [
    {
     "data": {
      "text/plain": [
       "-1.945810445566103"
      ]
     },
     "execution_count": 6,
     "metadata": {},
     "output_type": "execute_result"
    }
   ],
   "source": [
    "playstore_promoters = 46.248935\n",
    "playstore_detractors = 44.297629\n",
    "playstore_reviews = 50479\n",
    "\n",
    "appstore_promoters = 12.433393\n",
    "appstore_detractors = 84.262877\n",
    "appstore_reviews = 2815\n",
    "\n",
    "# Calculate the weighted NPS\n",
    "weighted_nps = (\n",
    "    ((playstore_promoters - playstore_detractors) * playstore_reviews) +\n",
    "    ((appstore_promoters - appstore_detractors) * appstore_reviews)\n",
    ") / (playstore_reviews + appstore_reviews)\n",
    "\n",
    "weighted_nps"
   ]
  },
  {
   "cell_type": "code",
   "execution_count": null,
   "id": "8537da9b-166c-4531-aaaa-87997c76b9fe",
   "metadata": {},
   "outputs": [],
   "source": []
  }
 ],
 "metadata": {
  "kernelspec": {
   "display_name": "Python 3 (ipykernel)",
   "language": "python",
   "name": "python3"
  },
  "language_info": {
   "codemirror_mode": {
    "name": "ipython",
    "version": 3
   },
   "file_extension": ".py",
   "mimetype": "text/x-python",
   "name": "python",
   "nbconvert_exporter": "python",
   "pygments_lexer": "ipython3",
   "version": "3.11.5"
  }
 },
 "nbformat": 4,
 "nbformat_minor": 5
}
